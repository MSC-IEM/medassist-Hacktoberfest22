{
  "nbformat": 4,
  "nbformat_minor": 0,
  "metadata": {
    "colab": {
      "provenance": []
    },
    "kernelspec": {
      "name": "python3",
      "display_name": "Python 3"
    },
    "language_info": {
      "name": "python"
    }
  },
  "cells": [
    {
      "cell_type": "code",
      "execution_count": 2,
      "metadata": {
        "colab": {
          "base_uri": "https://localhost:8080/"
        },
        "id": "kRo4YtyHj6xt",
        "outputId": "b3c61c73-42a7-4af2-db66-400cdcae7ac7"
      },
      "outputs": [
        {
          "output_type": "stream",
          "name": "stdout",
          "text": [
            "Looking in indexes: https://pypi.org/simple, https://us-python.pkg.dev/colab-wheels/public/simple/\n",
            "Collecting jiWER\n",
            "  Downloading jiwer-2.5.1-py3-none-any.whl (15 kB)\n",
            "Collecting levenshtein==0.20.2\n",
            "  Downloading Levenshtein-0.20.2-cp37-cp37m-manylinux_2_17_x86_64.manylinux2014_x86_64.whl (1.4 MB)\n",
            "\u001b[K     |████████████████████████████████| 1.4 MB 5.1 MB/s \n",
            "\u001b[?25hCollecting rapidfuzz<3.0.0,>=2.3.0\n",
            "  Downloading rapidfuzz-2.11.1-cp37-cp37m-manylinux_2_17_x86_64.manylinux2014_x86_64.whl (2.2 MB)\n",
            "\u001b[K     |████████████████████████████████| 2.2 MB 51.8 MB/s \n",
            "\u001b[?25hInstalling collected packages: rapidfuzz, levenshtein, jiWER\n",
            "Successfully installed jiWER-2.5.1 levenshtein-0.20.2 rapidfuzz-2.11.1\n"
          ]
        }
      ],
      "source": [
        "pip install jiWER"
      ]
    },
    {
      "cell_type": "code",
      "source": [
        "import pandas as pd\n",
        "import numpy as np\n",
        "import tensorflow as tf\n",
        "from tensorflow import keras\n",
        "from tensorflow.keras import layers\n",
        "import matplotlib.pyplot as plt\n",
        "from IPython import display\n",
        "from jiwer import wer"
      ],
      "metadata": {
        "id": "Y1xjc5MWkYFl"
      },
      "execution_count": 3,
      "outputs": []
    },
    {
      "cell_type": "markdown",
      "source": [
        "next, we import the lj speech dataset //\n",
        "**ID**: name of the corresponding .wav file//\n",
        "**Tanscription**: words spoken by the reader (UTF-8)//\n",
        "**Normalised transcription**: transcription with numbers, ordinals and and monetary units expanded into full words(UTF-8)\n",
        "\n"
      ],
      "metadata": {
        "id": "nf2AmGGllVZZ"
      }
    },
    {
      "cell_type": "code",
      "source": [
        "data_url=\"https://data.keithito.com/data/speech/LJSpeech-1.1.tar.bz2\"\n",
        "data_path=keras.utils.get_file(\"LJSpeech-1.1\",data_url,untar=True)"
      ],
      "metadata": {
        "colab": {
          "base_uri": "https://localhost:8080/"
        },
        "id": "lfgxHHUzmJFJ",
        "outputId": "6ffc3001-b98e-4e3c-dc8c-b6685b815307"
      },
      "execution_count": 4,
      "outputs": [
        {
          "metadata": {
            "tags": null
          },
          "name": "stdout",
          "output_type": "stream",
          "text": [
            "Downloading data from https://data.keithito.com/data/speech/LJSpeech-1.1.tar.bz2\n",
            "2748572632/2748572632 [==============================] - 33s 0us/step\n"
          ]
        }
      ]
    },
    {
      "cell_type": "code",
      "source": [],
      "metadata": {
        "id": "_YfQEA9ql_HT"
      },
      "execution_count": null,
      "outputs": []
    }
  ]
}